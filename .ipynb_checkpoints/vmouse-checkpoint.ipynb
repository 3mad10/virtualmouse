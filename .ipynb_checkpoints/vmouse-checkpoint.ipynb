{
 "cells": [
  {
   "cell_type": "code",
   "execution_count": 1,
   "metadata": {
    "collapsed": true
   },
   "outputs": [
    {
     "name": "stdout",
     "output_type": "stream",
     "text": [
      "Collecting pyautogui\n",
      "  Downloading PyAutoGUI-0.9.53.tar.gz (59 kB)\n",
      "\u001b[K     |████████████████████████████████| 59 kB 157 kB/s eta 0:00:01\n",
      "\u001b[?25hCollecting pymsgbox\n",
      "  Downloading PyMsgBox-1.0.9.tar.gz (18 kB)\n",
      "  Installing build dependencies ... \u001b[?25ldone\n",
      "\u001b[?25h  Getting requirements to build wheel ... \u001b[?25ldone\n",
      "\u001b[?25h    Preparing wheel metadata ... \u001b[?25ldone\n",
      "\u001b[?25hCollecting PyTweening>=1.0.1\n",
      "  Downloading pytweening-1.0.4.tar.gz (14 kB)\n",
      "Collecting pyscreeze>=0.1.21\n",
      "  Downloading PyScreeze-0.1.28.tar.gz (25 kB)\n",
      "  Installing build dependencies ... \u001b[?25ldone\n",
      "\u001b[?25h  Getting requirements to build wheel ... \u001b[?25ldone\n",
      "\u001b[?25h    Preparing wheel metadata ... \u001b[?25ldone\n",
      "\u001b[?25hCollecting pygetwindow>=0.0.5\n",
      "  Downloading PyGetWindow-0.0.9.tar.gz (9.7 kB)\n",
      "Collecting mouseinfo\n",
      "  Downloading MouseInfo-0.1.3.tar.gz (10 kB)\n",
      "Collecting python3-Xlib\n",
      "  Downloading python3-xlib-0.15.tar.gz (132 kB)\n",
      "\u001b[K     |████████████████████████████████| 132 kB 444 kB/s eta 0:00:01\n",
      "\u001b[?25hCollecting pyrect\n",
      "  Downloading PyRect-0.1.4.tar.gz (15 kB)\n",
      "Requirement already satisfied: Pillow>=6.2.1 in /home/mohamed/anaconda3/envs/tensorflow/lib/python3.8/site-packages (from pyscreeze>=0.1.21->pyautogui) (8.2.0)\n",
      "Collecting pyperclip\n",
      "  Downloading pyperclip-1.8.2.tar.gz (20 kB)\n",
      "Building wheels for collected packages: pyautogui, pygetwindow, pyscreeze, PyTweening, mouseinfo, pymsgbox, pyperclip, pyrect, python3-Xlib\n",
      "  Building wheel for pyautogui (setup.py) ... \u001b[?25ldone\n",
      "\u001b[?25h  Created wheel for pyautogui: filename=PyAutoGUI-0.9.53-py3-none-any.whl size=36583 sha256=165768d9a1305f06f36561eef19940ce58fae0d1adb6c1e85e28e73dc0d2e95c\n",
      "  Stored in directory: /home/mohamed/.cache/pip/wheels/54/04/f7/55704a9d374ed923785a4fdc0ef00151fa25306b3b93345532\n",
      "  Building wheel for pygetwindow (setup.py) ... \u001b[?25ldone\n",
      "\u001b[?25h  Created wheel for pygetwindow: filename=PyGetWindow-0.0.9-py3-none-any.whl size=11078 sha256=08c6a2946272fb0c776e27e9a74c2afd735d94b6351766c9c7b0bd15d12321d3\n",
      "  Stored in directory: /home/mohamed/.cache/pip/wheels/91/e3/04/184bda98ec7f7d5f0ba1f372bcf7b3ba86325151ae1dd690fe\n",
      "  Building wheel for pyscreeze (PEP 517) ... \u001b[?25ldone\n",
      "\u001b[?25h  Created wheel for pyscreeze: filename=PyScreeze-0.1.28-py3-none-any.whl size=13021 sha256=e61c5c287b2b8f29d7cb2f0900fd7bd94d154aa244d4fec713a94d1b7312e316\n",
      "  Stored in directory: /home/mohamed/.cache/pip/wheels/b1/b0/5c/9fb5beb2d6c708479a670e92f4ab3b54523a15c9cd4a46e24e\n",
      "  Building wheel for PyTweening (setup.py) ... \u001b[?25ldone\n",
      "\u001b[?25h  Created wheel for PyTweening: filename=pytweening-1.0.4-py3-none-any.whl size=5825 sha256=8797ac7b4dfb9cc24e27d602a331b5db9f2ba962576c64f60a1febf08af4d459\n",
      "  Stored in directory: /home/mohamed/.cache/pip/wheels/a2/1b/69/dc477653ccc19228bf53af76c623e4e82e5dc1b6f78d5c4d35\n",
      "  Building wheel for mouseinfo (setup.py) ... \u001b[?25ldone\n",
      "\u001b[?25h  Created wheel for mouseinfo: filename=MouseInfo-0.1.3-py3-none-any.whl size=10905 sha256=e817b62b8ff04ef9726d8cae8679c76123fed4948c9c6f6dd68700230a9f350c\n",
      "  Stored in directory: /home/mohamed/.cache/pip/wheels/d1/72/fb/35f403de66285df8ecca7049bcc61bfb57aba0f76d1f08f7eb\n",
      "  Building wheel for pymsgbox (PEP 517) ... \u001b[?25ldone\n",
      "\u001b[?25h  Created wheel for pymsgbox: filename=PyMsgBox-1.0.9-py3-none-any.whl size=7420 sha256=f38bfa7a8dbef6ada36b6b22f00c12c33cbb96b66bc6fe1437013a2b8d02ac92\n",
      "  Stored in directory: /home/mohamed/.cache/pip/wheels/91/28/0d/f4eb606d38276836237d6dc2abf094241e6db5682a126e0389\n",
      "  Building wheel for pyperclip (setup.py) ... \u001b[?25ldone\n",
      "\u001b[?25h  Created wheel for pyperclip: filename=pyperclip-1.8.2-py3-none-any.whl size=11107 sha256=391a9a091113bebe27b102054a529772a6975a46f475995c4261fa6a5a41912e\n",
      "  Stored in directory: /home/mohamed/.cache/pip/wheels/7f/1a/65/84ff8c386bec21fca6d220ea1f5498a0367883a78dd5ba6122\n",
      "  Building wheel for pyrect (setup.py) ... \u001b[?25ldone\n",
      "\u001b[?25h  Created wheel for pyrect: filename=PyRect-0.1.4-py2.py3-none-any.whl size=9547 sha256=8c7b5db782ff437f438980f4db6ce0bdde9e42537af275e503ad51db67e50bd0\n",
      "  Stored in directory: /home/mohamed/.cache/pip/wheels/d1/e4/47/c62f8291b16b6df7e89ac885881ff71f35ca04c6e384251de9\n",
      "  Building wheel for python3-Xlib (setup.py) ... \u001b[?25ldone\n",
      "\u001b[?25h  Created wheel for python3-Xlib: filename=python3_xlib-0.15-py3-none-any.whl size=109516 sha256=8927e41d8a23e4adb6ee5d456833499e59d9cb0d207260412375c2fec538c771\n",
      "  Stored in directory: /home/mohamed/.cache/pip/wheels/46/4e/a7/90774eeed70e4e93598bf4cbb1ef00c56e6bdc0fb99cc4215d\n",
      "Successfully built pyautogui pygetwindow pyscreeze PyTweening mouseinfo pymsgbox pyperclip pyrect python3-Xlib\n",
      "Installing collected packages: python3-Xlib, pyrect, pyperclip, PyTweening, pyscreeze, pymsgbox, pygetwindow, mouseinfo, pyautogui\n",
      "Successfully installed PyTweening-1.0.4 mouseinfo-0.1.3 pyautogui-0.9.53 pygetwindow-0.0.9 pymsgbox-1.0.9 pyperclip-1.8.2 pyrect-0.1.4 pyscreeze-0.1.28 python3-Xlib-0.15\n"
     ]
    }
   ],
   "source": [
    "!pip install pyautogui"
   ]
  },
  {
   "cell_type": "code",
   "execution_count": 3,
   "metadata": {
    "scrolled": true
   },
   "outputs": [
    {
     "name": "stdout",
     "output_type": "stream",
     "text": [
      "Collecting mouse\n",
      "  Downloading mouse-0.7.1-py2.py3-none-any.whl (16 kB)\n",
      "Installing collected packages: mouse\n",
      "Successfully installed mouse-0.7.1\n"
     ]
    }
   ],
   "source": [
    "!pip install mouse"
   ]
  },
  {
   "cell_type": "code",
   "execution_count": 6,
   "metadata": {
    "collapsed": true
   },
   "outputs": [
    {
     "name": "stdout",
     "output_type": "stream",
     "text": [
      "Collecting mediapipe\n",
      "  Downloading mediapipe-0.8.9.1-cp38-cp38-manylinux_2_17_x86_64.manylinux2014_x86_64.whl (32.7 MB)\n",
      "\u001b[K     |████████████████████████████████| 32.7 MB 1.7 kB/s eta 0:00:01     |██████████▎                     | 10.6 MB 190 kB/s eta 0:01:57     |█████████████████               | 17.3 MB 152 kB/s eta 0:01:42     |█████████████████████████▉      | 26.5 MB 127 kB/s eta 0:00:50     |██████████████████████████▊     | 27.3 MB 299 kB/s eta 0:00:19\n",
      "\u001b[?25hRequirement already satisfied: protobuf>=3.11.4 in /home/mohamed/anaconda3/envs/tensorflow/lib/python3.8/site-packages (from mediapipe) (3.15.8)\n",
      "Requirement already satisfied: matplotlib in /home/mohamed/anaconda3/envs/tensorflow/lib/python3.8/site-packages (from mediapipe) (3.4.1)\n",
      "Requirement already satisfied: opencv-contrib-python in /home/mohamed/anaconda3/envs/tensorflow/lib/python3.8/site-packages (from mediapipe) (4.5.1.48)\n",
      "Requirement already satisfied: numpy in /home/mohamed/anaconda3/envs/tensorflow/lib/python3.8/site-packages (from mediapipe) (1.19.5)\n",
      "Requirement already satisfied: absl-py in /home/mohamed/anaconda3/envs/tensorflow/lib/python3.8/site-packages (from mediapipe) (0.12.0)\n",
      "Requirement already satisfied: attrs>=19.1.0 in /home/mohamed/anaconda3/envs/tensorflow/lib/python3.8/site-packages (from mediapipe) (20.3.0)\n",
      "Requirement already satisfied: six>=1.9 in /home/mohamed/anaconda3/envs/tensorflow/lib/python3.8/site-packages (from protobuf>=3.11.4->mediapipe) (1.15.0)\n",
      "Requirement already satisfied: pyparsing>=2.2.1 in /home/mohamed/anaconda3/envs/tensorflow/lib/python3.8/site-packages (from matplotlib->mediapipe) (2.4.7)\n",
      "Requirement already satisfied: pillow>=6.2.0 in /home/mohamed/anaconda3/envs/tensorflow/lib/python3.8/site-packages (from matplotlib->mediapipe) (8.2.0)\n",
      "Requirement already satisfied: python-dateutil>=2.7 in /home/mohamed/anaconda3/envs/tensorflow/lib/python3.8/site-packages (from matplotlib->mediapipe) (2.8.1)\n",
      "Requirement already satisfied: cycler>=0.10 in /home/mohamed/anaconda3/envs/tensorflow/lib/python3.8/site-packages (from matplotlib->mediapipe) (0.10.0)\n",
      "Requirement already satisfied: kiwisolver>=1.0.1 in /home/mohamed/anaconda3/envs/tensorflow/lib/python3.8/site-packages (from matplotlib->mediapipe) (1.3.1)\n",
      "Installing collected packages: mediapipe\n",
      "Successfully installed mediapipe-0.8.9.1\n"
     ]
    }
   ],
   "source": [
    "!pip install mediapipe"
   ]
  },
  {
   "cell_type": "code",
   "execution_count": 39,
   "metadata": {},
   "outputs": [],
   "source": [
    "import cv2\n",
    "import numpy as np\n",
    "import sys\n",
    "import mouse\n",
    "#sys.path.insert(1, 'F:/machine learning/modules/')\n",
    "import handLandmarkMP as hlm\n",
    "import pyautogui\n",
    "import time"
   ]
  },
  {
   "cell_type": "code",
   "execution_count": 11,
   "metadata": {},
   "outputs": [],
   "source": [
    "screen_width, screen_height= pyautogui.size()"
   ]
  },
  {
   "cell_type": "code",
   "execution_count": 12,
   "metadata": {},
   "outputs": [
    {
     "name": "stdout",
     "output_type": "stream",
     "text": [
      "width: 1366, height: 768\n"
     ]
    }
   ],
   "source": [
    "print(\"width: {}, height: {}\".format(screen_width,screen_height))"
   ]
  },
  {
   "cell_type": "code",
   "execution_count": 13,
   "metadata": {},
   "outputs": [
    {
     "data": {
      "text/plain": [
       "256"
      ]
     },
     "execution_count": 13,
     "metadata": {},
     "output_type": "execute_result"
    }
   ],
   "source": [
    "screen_height//3"
   ]
  },
  {
   "cell_type": "code",
   "execution_count": 14,
   "metadata": {},
   "outputs": [],
   "source": [
    "hands = hlm.HandDetector()"
   ]
  },
  {
   "cell_type": "code",
   "execution_count": 15,
   "metadata": {
    "scrolled": true
   },
   "outputs": [
    {
     "data": {
      "text/plain": [
       "256"
      ]
     },
     "execution_count": 15,
     "metadata": {},
     "output_type": "execute_result"
    }
   ],
   "source": [
    "img_center = (img.shape[1]//2,img.shape[0]//2)\n",
    "x1,y1 = img_center[0] - (455//2), img_center[1] - (256//2)\n",
    "x2,y2 = img_center[0] + (455//2), img_center[1] + (256//2)\n",
    "venv_rec_x = x2 - x1\n",
    "venv_rec_y = y2 - y1\n",
    "venv_rec_y"
   ]
  },
  {
   "cell_type": "code",
   "execution_count": 29,
   "metadata": {},
   "outputs": [
    {
     "data": {
      "text/plain": [
       "array([False,  True])"
      ]
     },
     "execution_count": 29,
     "metadata": {},
     "output_type": "execute_result"
    }
   ],
   "source": [
    "np.isclose([11, 9], [0, 0],atol = 10)"
   ]
  },
  {
   "cell_type": "code",
   "execution_count": 81,
   "metadata": {
    "scrolled": true
   },
   "outputs": [
    {
     "name": "stdout",
     "output_type": "stream",
     "text": [
      "56\n"
     ]
    },
    {
     "ename": "ImportError",
     "evalue": "You must be root to use this library on linux.",
     "output_type": "error",
     "traceback": [
      "\u001b[0;31m---------------------------------------------------------------------------\u001b[0m",
      "\u001b[0;31mImportError\u001b[0m                               Traceback (most recent call last)",
      "\u001b[0;32m<ipython-input-81-4899e44a31c0>\u001b[0m in \u001b[0;36m<module>\u001b[0;34m\u001b[0m\n\u001b[1;32m     56\u001b[0m \u001b[0;34m\u001b[0m\u001b[0m\n\u001b[1;32m     57\u001b[0m         \u001b[0;32mif\u001b[0m \u001b[0;34m(\u001b[0m\u001b[0mnp\u001b[0m\u001b[0;34m.\u001b[0m\u001b[0misclose\u001b[0m\u001b[0;34m(\u001b[0m\u001b[0mdist\u001b[0m\u001b[0;34m,\u001b[0m\u001b[0;36m60\u001b[0m\u001b[0;34m,\u001b[0m\u001b[0matol\u001b[0m \u001b[0;34m=\u001b[0m \u001b[0;36m7\u001b[0m\u001b[0;34m)\u001b[0m\u001b[0;34m)\u001b[0m\u001b[0;34m:\u001b[0m\u001b[0;34m\u001b[0m\u001b[0;34m\u001b[0m\u001b[0m\n\u001b[0;32m---> 58\u001b[0;31m             \u001b[0mmouse\u001b[0m\u001b[0;34m.\u001b[0m\u001b[0mclick\u001b[0m\u001b[0;34m(\u001b[0m\u001b[0mbutton\u001b[0m\u001b[0;34m=\u001b[0m\u001b[0;34m'left'\u001b[0m\u001b[0;34m)\u001b[0m\u001b[0;34m\u001b[0m\u001b[0;34m\u001b[0m\u001b[0m\n\u001b[0m\u001b[1;32m     59\u001b[0m \u001b[0;34m\u001b[0m\u001b[0m\n\u001b[1;32m     60\u001b[0m         \u001b[0;32mif\u001b[0m \u001b[0;34m(\u001b[0m\u001b[0mnp\u001b[0m\u001b[0;34m.\u001b[0m\u001b[0mall\u001b[0m\u001b[0;34m(\u001b[0m\u001b[0mnp\u001b[0m\u001b[0;34m.\u001b[0m\u001b[0misclose\u001b[0m\u001b[0;34m(\u001b[0m\u001b[0;34m[\u001b[0m\u001b[0mx_\u001b[0m\u001b[0;34m,\u001b[0m\u001b[0my_\u001b[0m\u001b[0;34m]\u001b[0m\u001b[0;34m,\u001b[0m\u001b[0;34m[\u001b[0m\u001b[0mx_before\u001b[0m\u001b[0;34m,\u001b[0m\u001b[0my_before\u001b[0m\u001b[0;34m]\u001b[0m\u001b[0;34m,\u001b[0m\u001b[0matol\u001b[0m \u001b[0;34m=\u001b[0m \u001b[0;36m10\u001b[0m\u001b[0;34m)\u001b[0m\u001b[0;34m)\u001b[0m\u001b[0;34m)\u001b[0m\u001b[0;34m:\u001b[0m\u001b[0;34m\u001b[0m\u001b[0;34m\u001b[0m\u001b[0m\n",
      "\u001b[0;32m~/anaconda3/envs/tensorflow/lib/python3.8/site-packages/mouse/__init__.py\u001b[0m in \u001b[0;36mclick\u001b[0;34m(button)\u001b[0m\n\u001b[1;32m     91\u001b[0m \u001b[0;32mdef\u001b[0m \u001b[0mclick\u001b[0m\u001b[0;34m(\u001b[0m\u001b[0mbutton\u001b[0m\u001b[0;34m=\u001b[0m\u001b[0mLEFT\u001b[0m\u001b[0;34m)\u001b[0m\u001b[0;34m:\u001b[0m\u001b[0;34m\u001b[0m\u001b[0;34m\u001b[0m\u001b[0m\n\u001b[1;32m     92\u001b[0m     \u001b[0;34m\"\"\" Sends a click with the given button. \"\"\"\u001b[0m\u001b[0;34m\u001b[0m\u001b[0;34m\u001b[0m\u001b[0m\n\u001b[0;32m---> 93\u001b[0;31m     \u001b[0m_os_mouse\u001b[0m\u001b[0;34m.\u001b[0m\u001b[0mpress\u001b[0m\u001b[0;34m(\u001b[0m\u001b[0mbutton\u001b[0m\u001b[0;34m)\u001b[0m\u001b[0;34m\u001b[0m\u001b[0;34m\u001b[0m\u001b[0m\n\u001b[0m\u001b[1;32m     94\u001b[0m     \u001b[0m_os_mouse\u001b[0m\u001b[0;34m.\u001b[0m\u001b[0mrelease\u001b[0m\u001b[0;34m(\u001b[0m\u001b[0mbutton\u001b[0m\u001b[0;34m)\u001b[0m\u001b[0;34m\u001b[0m\u001b[0;34m\u001b[0m\u001b[0m\n\u001b[1;32m     95\u001b[0m \u001b[0;34m\u001b[0m\u001b[0m\n",
      "\u001b[0;32m~/anaconda3/envs/tensorflow/lib/python3.8/site-packages/mouse/_nixmouse.py\u001b[0m in \u001b[0;36mpress\u001b[0;34m(button)\u001b[0m\n\u001b[1;32m    103\u001b[0m \u001b[0;34m\u001b[0m\u001b[0m\n\u001b[1;32m    104\u001b[0m \u001b[0;32mdef\u001b[0m \u001b[0mpress\u001b[0m\u001b[0;34m(\u001b[0m\u001b[0mbutton\u001b[0m\u001b[0;34m=\u001b[0m\u001b[0mLEFT\u001b[0m\u001b[0;34m)\u001b[0m\u001b[0;34m:\u001b[0m\u001b[0;34m\u001b[0m\u001b[0;34m\u001b[0m\u001b[0m\n\u001b[0;32m--> 105\u001b[0;31m     \u001b[0mbuild_device\u001b[0m\u001b[0;34m(\u001b[0m\u001b[0;34m)\u001b[0m\u001b[0;34m\u001b[0m\u001b[0;34m\u001b[0m\u001b[0m\n\u001b[0m\u001b[1;32m    106\u001b[0m     \u001b[0mdevice\u001b[0m\u001b[0;34m.\u001b[0m\u001b[0mwrite_event\u001b[0m\u001b[0;34m(\u001b[0m\u001b[0mEV_KEY\u001b[0m\u001b[0;34m,\u001b[0m \u001b[0mcode_by_button\u001b[0m\u001b[0;34m[\u001b[0m\u001b[0mbutton\u001b[0m\u001b[0;34m]\u001b[0m\u001b[0;34m,\u001b[0m \u001b[0;36m0x01\u001b[0m\u001b[0;34m)\u001b[0m\u001b[0;34m\u001b[0m\u001b[0;34m\u001b[0m\u001b[0m\n\u001b[1;32m    107\u001b[0m \u001b[0;34m\u001b[0m\u001b[0m\n",
      "\u001b[0;32m~/anaconda3/envs/tensorflow/lib/python3.8/site-packages/mouse/_nixmouse.py\u001b[0m in \u001b[0;36mbuild_device\u001b[0;34m()\u001b[0m\n\u001b[1;32m     70\u001b[0m     \u001b[0;32mglobal\u001b[0m \u001b[0mdevice\u001b[0m\u001b[0;34m\u001b[0m\u001b[0;34m\u001b[0m\u001b[0m\n\u001b[1;32m     71\u001b[0m     \u001b[0;32mif\u001b[0m \u001b[0mdevice\u001b[0m\u001b[0;34m:\u001b[0m \u001b[0;32mreturn\u001b[0m\u001b[0;34m\u001b[0m\u001b[0;34m\u001b[0m\u001b[0m\n\u001b[0;32m---> 72\u001b[0;31m     \u001b[0mensure_root\u001b[0m\u001b[0;34m(\u001b[0m\u001b[0;34m)\u001b[0m\u001b[0;34m\u001b[0m\u001b[0;34m\u001b[0m\u001b[0m\n\u001b[0m\u001b[1;32m     73\u001b[0m     \u001b[0mdevice\u001b[0m \u001b[0;34m=\u001b[0m \u001b[0maggregate_devices\u001b[0m\u001b[0;34m(\u001b[0m\u001b[0;34m'mouse'\u001b[0m\u001b[0;34m)\u001b[0m\u001b[0;34m\u001b[0m\u001b[0;34m\u001b[0m\u001b[0m\n\u001b[1;32m     74\u001b[0m \u001b[0minit\u001b[0m \u001b[0;34m=\u001b[0m \u001b[0mbuild_device\u001b[0m\u001b[0;34m\u001b[0m\u001b[0;34m\u001b[0m\u001b[0m\n",
      "\u001b[0;32m~/anaconda3/envs/tensorflow/lib/python3.8/site-packages/mouse/_nixcommon.py\u001b[0m in \u001b[0;36mensure_root\u001b[0;34m()\u001b[0m\n\u001b[1;32m    163\u001b[0m \u001b[0;32mdef\u001b[0m \u001b[0mensure_root\u001b[0m\u001b[0;34m(\u001b[0m\u001b[0;34m)\u001b[0m\u001b[0;34m:\u001b[0m\u001b[0;34m\u001b[0m\u001b[0;34m\u001b[0m\u001b[0m\n\u001b[1;32m    164\u001b[0m     \u001b[0;32mif\u001b[0m \u001b[0mos\u001b[0m\u001b[0;34m.\u001b[0m\u001b[0mgeteuid\u001b[0m\u001b[0;34m(\u001b[0m\u001b[0;34m)\u001b[0m \u001b[0;34m!=\u001b[0m \u001b[0;36m0\u001b[0m\u001b[0;34m:\u001b[0m\u001b[0;34m\u001b[0m\u001b[0;34m\u001b[0m\u001b[0m\n\u001b[0;32m--> 165\u001b[0;31m         \u001b[0;32mraise\u001b[0m \u001b[0mImportError\u001b[0m\u001b[0;34m(\u001b[0m\u001b[0;34m'You must be root to use this library on linux.'\u001b[0m\u001b[0;34m)\u001b[0m\u001b[0;34m\u001b[0m\u001b[0;34m\u001b[0m\u001b[0m\n\u001b[0m",
      "\u001b[0;31mImportError\u001b[0m: You must be root to use this library on linux."
     ]
    }
   ],
   "source": [
    "cap = cv2.VideoCapture(0)\n",
    "success, img = cap.read()\n",
    "img_center = (img.shape[1]//2,img.shape[0]//2)\n",
    "x1,y1 = img_center[0] - (455//2), img_center[1] - (256//2)\n",
    "x2,y2 = img_center[0] + (455//2), img_center[1] + (256//2)\n",
    "a,b,c,d = x1,y1,x2,y2\n",
    "e,f,g,h = 1,1,1366,768\n",
    "\n",
    "start = time.time()\n",
    "\n",
    "avg_factor = 7\n",
    "avg_index = 0\n",
    "history_x = np.ones(avg_factor) * 1366\n",
    "history_y = np.ones(avg_factor) * 768\n",
    "x_before = 1366 // 2\n",
    "y_before = 768 // 2\n",
    "\n",
    "start_point = (x1,y1)\n",
    "end_point = (x2,y2)\n",
    "rectangle_color = (155,155,155)\n",
    "rectangle_thickness = 3\n",
    "frames = 0\n",
    "\n",
    "font = cv2.FONT_HERSHEY_SIMPLEX\n",
    "\n",
    "while cap.isOpened():\n",
    "    success, img = cap.read()\n",
    "    #img = cv2.resize(img,(screen_width//2,screen_height//2))\n",
    "    img = cv2.flip(img, 1)\n",
    "    if not success:\n",
    "        print(\"Ignoring empty camera frame.\")\n",
    "        # If loading a video, use 'break' instead of 'continue'.\n",
    "        continue\n",
    "    img = hands.findHands(img)\n",
    "    hands_positions = hands.findPositions(img)\n",
    "    #print(hands_positions)\n",
    "    #mouse.move(screen_width//2, screen_height//2, absolute=False, duration=0)\n",
    "    img = cv2.rectangle(img, start_point, end_point, rectangle_color, rectangle_thickness)\n",
    "    if hands_positions:\n",
    "        index = np.array(hands_positions['hand1']['index'][-1])\n",
    "        middle = np.array(hands_positions['hand1']['middle'][-1])\n",
    "        ring = np.array(hands_positions['hand1']['ring'][-1])\n",
    "        #print(f\"middle co-ordinates : {middle}\")\n",
    "        #print(f\"index co-ordinates : {index}\")\n",
    "        \n",
    "        # get the ecludian distance between middle finger tip and index finger tip\n",
    "        x, y = np.abs(middle-index)\n",
    "        dist = int((x**2 + y**2)**0.5)\n",
    "        print(dist)\n",
    "        \n",
    "        #print(f\"index pos:{index} middle pos {middle}\")\n",
    "        \n",
    "        # map x and y values from the frame to the screen size\n",
    "        x_ = e + (middle[0] - a) * (g - e) / (c - a)\n",
    "        y_ = f + (middle[1] - b) * (h - f) / (d - b)\n",
    "        \n",
    "        if (np.isclose(dist,60,atol = 7)):\n",
    "            mouse.click(button='left')\n",
    "        \n",
    "        if (np.all(np.isclose([x_,y_],[x_before,y_before],atol = 10))):\n",
    "            x_ = x_before\n",
    "            y_ = y_before\n",
    "        \n",
    "        # appending current average\n",
    "        history_x[avg_index] = int(x_)\n",
    "        history_y[avg_index] = int(y_)\n",
    "        \n",
    "        # averaging over position history\n",
    "        pos_avg_x = int(np.average(history_x))\n",
    "        pos_avg_y = int(np.average(history_y))\n",
    "        \n",
    "        #print(history_x)\n",
    "        \n",
    "        mouse.move(pos_avg_x, pos_avg_y, absolute=True, duration=0)\n",
    "        #cv2.circle(img, hands_positions['hand1']['middle'][-1], 0, (0, 0, 0), 6)\n",
    "    \n",
    "    x_before = x_\n",
    "    y_before = y_\n",
    "    end = time.time()\n",
    "    avg_index += 1\n",
    "    \n",
    "    if (avg_index / avg_factor == 1):\n",
    "        avg_index = 0\n",
    "    fps = str(int(frames / (end-start)))\n",
    "    frames += 1\n",
    "    cv2.putText(img, fps, (7, 70), font, 3, (100, 255, 0), 3, cv2.LINE_AA)\n",
    "    cv2.imshow(\"Image\", img)\n",
    "    if cv2.waitKey(25) & 0xFF == ord('q'):\n",
    "        break\n",
    "cap.release()\n",
    "cv2.destroyAllWindows()"
   ]
  },
  {
   "cell_type": "code",
   "execution_count": 21,
   "metadata": {},
   "outputs": [],
   "source": [
    "mouse.move(1366, 640, absolute=True, duration=0.1)"
   ]
  },
  {
   "cell_type": "code",
   "execution_count": null,
   "metadata": {},
   "outputs": [],
   "source": []
  }
 ],
 "metadata": {
  "kernelspec": {
   "display_name": "Python 3",
   "language": "python",
   "name": "python3"
  },
  "language_info": {
   "codemirror_mode": {
    "name": "ipython",
    "version": 3
   },
   "file_extension": ".py",
   "mimetype": "text/x-python",
   "name": "python",
   "nbconvert_exporter": "python",
   "pygments_lexer": "ipython3",
   "version": "3.8.8"
  }
 },
 "nbformat": 4,
 "nbformat_minor": 4
}
